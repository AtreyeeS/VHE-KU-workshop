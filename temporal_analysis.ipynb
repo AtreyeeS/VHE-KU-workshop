{
 "cells": [
  {
   "cell_type": "markdown",
   "metadata": {},
   "source": [
    "# Simulating and fitting a time varying source\n",
    "\n",
    "\n",
    "## Context\n",
    "\n",
    "Frequently, studies of variable sources (eg: decaying GRB light curves, AGN flares, etc) require time variable simulations. For most use cases, generating an event list is an overkill, and it suffices to use binned simulations using a temporal model.\n",
    "\n",
    "**Objective: Simulate a time varying source with CTA 1DC \n",
    "response**\n",
    "\n",
    "\n",
    "## Proposed approach\n",
    "\n",
    "We will simulate 10 spectral datasets within given time intervals (Good Time Intervals) following a given spectral (PowerLaw) and temporal profile (. These are then analysed using the light curve estimator to obtain flux points. Then, we re-fit the simulated datasets to reconstruct back the injected profiles.\n",
    "\n",
    "In summary, necessary steps are:\n",
    "\n",
    "- Choose observation parameters including a list of `gammapy.data.GTI`\n",
    "- Define temporal and spectral models from :ref:model-gallery as per science case\n",
    "- Perform the simulation (in 1D or 3D)\n",
    "- Extract the light curve from the reduced dataset as shown in [light curve notebook](light_curve.ipynb)\n",
    "- Optionally, we show here how to fit the simulated datasets using a source model \n",
    "\n",
    "\n",
    "## Setup \n",
    "\n",
    "As usual, we'll start with some general imports..."
   ]
  },
  {
   "cell_type": "markdown",
   "metadata": {},
   "source": [
    "## Setup"
   ]
  },
  {
   "cell_type": "code",
   "execution_count": 1,
   "metadata": {},
   "outputs": [],
   "source": [
    "%matplotlib inline\n",
    "import matplotlib.pyplot as plt\n",
    "import numpy as np\n",
    "import astropy.units as u\n",
    "from astropy.coordinates import SkyCoord\n",
    "from astropy.time import Time\n",
    "\n",
    "import logging\n",
    "\n",
    "log = logging.getLogger(__name__)"
   ]
  },
  {
   "cell_type": "markdown",
   "metadata": {},
   "source": [
    "And some gammapy specific imports"
   ]
  },
  {
   "cell_type": "code",
   "execution_count": 2,
   "metadata": {},
   "outputs": [],
   "source": [
    "from gammapy.data import Observation\n",
    "from gammapy.irf import load_cta_irfs\n",
    "from gammapy.datasets import SpectrumDataset, Datasets\n",
    "from gammapy.modeling.models import (\n",
    "    PowerLawSpectralModel,\n",
    "    ExpDecayTemporalModel,\n",
    "    PowerLawTemporalModel,\n",
    "    SkyModel,\n",
    ")\n",
    "from gammapy.maps import MapAxis, RegionGeom\n",
    "from gammapy.estimators import LightCurveEstimator\n",
    "from gammapy.makers import SpectrumDatasetMaker\n",
    "from gammapy.modeling import Fit"
   ]
  },
  {
   "cell_type": "markdown",
   "metadata": {},
   "source": [
    "## Simulating a time varying source\n",
    "\n",
    "We will simulate 10 datasets using an `PowerLawSpectralModel` and a `ExpDecayTemporalModel`. The important thing to note here is how to attach a different `GTI` to each dataset."
   ]
  },
  {
   "cell_type": "code",
   "execution_count": 3,
   "metadata": {},
   "outputs": [
    {
     "name": "stderr",
     "output_type": "stream",
     "text": [
      "Invalid unit found in background table! Assuming (s-1 MeV-1 sr-1)\n"
     ]
    }
   ],
   "source": [
    "# Loading IRFs\n",
    "irfs = load_cta_irfs(\n",
    "    \"$GAMMAPY_DATA/cta-1dc/caldb/data/cta/1dc/bcf/South_z20_50h/irf_file.fits\"\n",
    ")"
   ]
  },
  {
   "cell_type": "code",
   "execution_count": 4,
   "metadata": {},
   "outputs": [],
   "source": [
    "# Reconstructed and true energy axis\n",
    "energy_axis = MapAxis.from_edges(\n",
    "    np.logspace(-0.5, 1.0, 10), unit=\"TeV\", name=\"energy\", interp=\"log\"\n",
    ")\n",
    "energy_axis_true = MapAxis.from_edges(\n",
    "    np.logspace(-1.2, 2.0, 31), unit=\"TeV\", name=\"energy_true\", interp=\"log\"\n",
    ")\n",
    "\n",
    "geom = RegionGeom.create(\"galactic;circle(0, 0, 0.11)\", axes=[energy_axis])"
   ]
  },
  {
   "cell_type": "code",
   "execution_count": 5,
   "metadata": {},
   "outputs": [],
   "source": [
    "# Pointing position\n",
    "pointing = SkyCoord(0.5, 0.5, unit=\"deg\", frame=\"galactic\")"
   ]
  },
  {
   "cell_type": "markdown",
   "metadata": {},
   "source": [
    "Note that observations are usually conducted in  Wobble mode, in which the source is not in the center of the camera. This allows to have a symmetrical sky position from which background can be estimated."
   ]
  },
  {
   "cell_type": "code",
   "execution_count": 6,
   "metadata": {},
   "outputs": [
    {
     "name": "stderr",
     "output_type": "stream",
     "text": [
      "/Users/ASinha/opt/anaconda3/envs/gammapy-0.19/lib/python3.9/site-packages/astropy/units/quantity.py:486: RuntimeWarning: overflow encountered in exp\n",
      "  result = super().__array_ufunc__(function, method, *arrays, **kwargs)\n",
      "/Users/ASinha/opt/anaconda3/envs/gammapy-0.19/lib/python3.9/site-packages/astropy/units/quantity.py:486: RuntimeWarning: invalid value encountered in subtract\n",
      "  result = super().__array_ufunc__(function, method, *arrays, **kwargs)\n"
     ]
    }
   ],
   "source": [
    "# Define the source model: A combination of spectral and temporal model\n",
    "\n",
    "gti_t0 = Time(\"2020-03-01\")\n",
    "\n",
    "spectral_model = PowerLawSpectralModel(\n",
    "    index=3, amplitude=\"1e-11 cm-2 s-1 TeV-1\", reference=\"1 TeV\"\n",
    ")\n",
    "temporal_model = ExpDecayTemporalModel(t0=\"6 h\", t_ref=gti_t0.mjd * u.d)\n",
    "\n",
    "model_simu = SkyModel(\n",
    "    spectral_model=spectral_model,\n",
    "    temporal_model=temporal_model,\n",
    "    name=\"model-simu\",\n",
    ")"
   ]
  },
  {
   "cell_type": "code",
   "execution_count": 7,
   "metadata": {},
   "outputs": [
    {
     "data": {
      "text/html": [
       "<div><i>Table length=5</i>\n",
       "<table id=\"table4630288416\" class=\"table-striped table-bordered table-condensed\">\n",
       "<thead><tr><th>type</th><th>name</th><th>value</th><th>unit</th><th>error</th><th>min</th><th>max</th><th>frozen</th><th>link</th></tr></thead>\n",
       "<thead><tr><th>str8</th><th>str9</th><th>float64</th><th>str14</th><th>int64</th><th>float64</th><th>float64</th><th>bool</th><th>str1</th></tr></thead>\n",
       "<tr><td>spectral</td><td>index</td><td>3.0000e+00</td><td></td><td>0.000e+00</td><td>nan</td><td>nan</td><td>False</td><td></td></tr>\n",
       "<tr><td>spectral</td><td>amplitude</td><td>1.0000e-11</td><td>cm-2 s-1 TeV-1</td><td>0.000e+00</td><td>nan</td><td>nan</td><td>False</td><td></td></tr>\n",
       "<tr><td>spectral</td><td>reference</td><td>1.0000e+00</td><td>TeV</td><td>0.000e+00</td><td>nan</td><td>nan</td><td>True</td><td></td></tr>\n",
       "<tr><td>temporal</td><td>t0</td><td>6.0000e+00</td><td>h</td><td>0.000e+00</td><td>nan</td><td>nan</td><td>False</td><td></td></tr>\n",
       "<tr><td>temporal</td><td>t_ref</td><td>5.8909e+04</td><td>d</td><td>0.000e+00</td><td>nan</td><td>nan</td><td>True</td><td></td></tr>\n",
       "</table></div>"
      ],
      "text/plain": [
       "<Table length=5>\n",
       "  type      name     value         unit      ...   min     max   frozen link\n",
       "  str8      str9    float64       str14      ... float64 float64  bool  str1\n",
       "-------- --------- ---------- -------------- ... ------- ------- ------ ----\n",
       "spectral     index 3.0000e+00                ...     nan     nan  False     \n",
       "spectral amplitude 1.0000e-11 cm-2 s-1 TeV-1 ...     nan     nan  False     \n",
       "spectral reference 1.0000e+00            TeV ...     nan     nan   True     \n",
       "temporal        t0 6.0000e+00              h ...     nan     nan  False     \n",
       "temporal     t_ref 5.8909e+04              d ...     nan     nan   True     "
      ]
     },
     "execution_count": 7,
     "metadata": {},
     "output_type": "execute_result"
    }
   ],
   "source": [
    "# Look at the model\n",
    "model_simu.parameters.to_table()"
   ]
  },
  {
   "cell_type": "markdown",
   "metadata": {},
   "source": [
    "Now, define the start and observation livetime wrt to the reference time, `gti_t0`"
   ]
  },
  {
   "cell_type": "code",
   "execution_count": 8,
   "metadata": {},
   "outputs": [],
   "source": [
    "n_obs = 10\n",
    "tstart = [2, 2.5, 3, 3.5, 4.5, 18, 18.5, 19, 20, 21] * u.h\n",
    "lvtm = [28, 28, 28, 20, 30, 30, 30, 30, 28, 22] * u.min"
   ]
  },
  {
   "cell_type": "markdown",
   "metadata": {},
   "source": [
    "Now perform the simulations"
   ]
  },
  {
   "cell_type": "code",
   "execution_count": 9,
   "metadata": {},
   "outputs": [],
   "source": [
    "datasets = Datasets()\n",
    "\n",
    "empty = SpectrumDataset.create(\n",
    "    geom=geom, energy_axis_true=energy_axis_true, name=\"empty\"\n",
    ")\n",
    "\n",
    "maker = SpectrumDatasetMaker(selection=[\"exposure\", \"background\", \"edisp\"])\n",
    "\n",
    "for idx in range(n_obs):\n",
    "    obs = Observation.create(\n",
    "        pointing=pointing,\n",
    "        livetime=lvtm[idx],\n",
    "        tstart=tstart[idx],\n",
    "        irfs=irfs,\n",
    "        reference_time=gti_t0,\n",
    "        obs_id=idx,\n",
    "    )\n",
    "    empty_i = empty.copy(name=f\"dataset-{idx}\")\n",
    "    dataset = maker.run(empty_i, obs)\n",
    "    dataset.models = model_simu\n",
    "    dataset.fake()\n",
    "    datasets.append(dataset)"
   ]
  },
  {
   "cell_type": "markdown",
   "metadata": {},
   "source": [
    "The reduced datasets have been successfully simulated. Let's take a quick look into our datasets."
   ]
  },
  {
   "cell_type": "code",
   "execution_count": 10,
   "metadata": {},
   "outputs": [
    {
     "data": {
      "text/html": [
       "<div><i>Table length=10</i>\n",
       "<table id=\"table6072249744\" class=\"table-striped table-bordered table-condensed\">\n",
       "<thead><tr><th>name</th><th>counts</th><th>background</th><th>excess</th><th>sqrt_ts</th><th>npred</th><th>npred_background</th><th>npred_signal</th><th>exposure_min</th><th>exposure_max</th><th>livetime</th><th>ontime</th><th>counts_rate</th><th>background_rate</th><th>excess_rate</th><th>n_bins</th><th>n_fit_bins</th><th>stat_type</th><th>stat_sum</th></tr></thead>\n",
       "<thead><tr><th></th><th></th><th></th><th></th><th></th><th></th><th></th><th></th><th>m2 s</th><th>m2 s</th><th>s</th><th>s</th><th>1 / s</th><th>1 / s</th><th>1 / s</th><th></th><th></th><th></th><th></th></tr></thead>\n",
       "<thead><tr><th>str9</th><th>int64</th><th>float64</th><th>float64</th><th>float64</th><th>float64</th><th>float64</th><th>float64</th><th>float64</th><th>float64</th><th>float64</th><th>float64</th><th>float64</th><th>float64</th><th>float64</th><th>int64</th><th>int64</th><th>str4</th><th>float64</th></tr></thead>\n",
       "<tr><td>stacked</td><td>341</td><td>10.344099998474121</td><td>330.6559143066406</td><td>41.50416999483811</td><td>10.344100765883923</td><td>10.344099998474121</td><td>nan</td><td>110033840.0</td><td>8158322176.0</td><td>1680.0</td><td>1680.0</td><td>0.20297619047619048</td><td>0.00615720238004412</td><td>0.19681899661109561</td><td>9</td><td>9</td><td>cash</td><td>nan</td></tr>\n",
       "<tr><td>dataset-1</td><td>334</td><td>10.344100712089753</td><td>323.65589928791024</td><td>40.9121527718472</td><td>341.7239308943698</td><td>10.344100712089753</td><td>331.37983018228005</td><td>110033841.04783085</td><td>8158322252.989739</td><td>1680.0</td><td>1680.0</td><td>0.1988095238095238</td><td>0.0061572028048153295</td><td>0.19265232100470847</td><td>9</td><td>9</td><td>cash</td><td>-2064.134711431829</td></tr>\n",
       "<tr><td>dataset-2</td><td>304</td><td>10.344100712089753</td><td>293.65589928791024</td><td>38.31579160392873</td><td>315.2282625921101</td><td>10.344100712089753</td><td>304.88416188002043</td><td>110033841.04783085</td><td>8158322252.989739</td><td>1680.0</td><td>1680.0</td><td>0.18095238095238095</td><td>0.0061572028048153295</td><td>0.17479517814756562</td><td>9</td><td>9</td><td>cash</td><td>-1870.097838152363</td></tr>\n",
       "<tr><td>dataset-3</td><td>214</td><td>7.388643365778396</td><td>206.6113566342216</td><td>32.05368822425704</td><td>209.96441573895203</td><td>7.388643365778396</td><td>202.5757723731736</td><td>78595600.7484506</td><td>5827373037.849814</td><td>1200.0</td><td>1200.0</td><td>0.17833333333333334</td><td>0.00615720280481533</td><td>0.17217613052851802</td><td>9</td><td>9</td><td>cash</td><td>-1141.2273556350483</td></tr>\n",
       "<tr><td>dataset-4</td><td>255</td><td>11.082965048667592</td><td>243.9170349513324</td><td>33.33844059102376</td><td>264.79103909249494</td><td>11.082965048667592</td><td>253.70807404382734</td><td>117893401.12267591</td><td>8741059556.774721</td><td>1800.0</td><td>1800.0</td><td>0.14166666666666666</td><td>0.0061572028048153295</td><td>0.13550946386185134</td><td>9</td><td>9</td><td>cash</td><td>-1457.7074771887246</td></tr>\n",
       "<tr><td>dataset-5</td><td>37</td><td>11.082965048667592</td><td>25.917034951332408</td><td>6.113392772671006</td><td>37.82359931797092</td><td>11.082965048667592</td><td>26.74063426930333</td><td>117893401.12267591</td><td>8741059556.774721</td><td>1800.0</td><td>1800.0</td><td>0.020555555555555556</td><td>0.0061572028048153295</td><td>0.014398352750740227</td><td>9</td><td>9</td><td>cash</td><td>-66.95884255720794</td></tr>\n",
       "<tr><td>dataset-6</td><td>39</td><td>11.082965048667592</td><td>27.917034951332408</td><td>6.5039847062109395</td><td>35.68553625178576</td><td>11.082965048667592</td><td>24.60257120311817</td><td>117893401.12267591</td><td>8741059556.774721</td><td>1800.0</td><td>1800.0</td><td>0.021666666666666667</td><td>0.0061572028048153295</td><td>0.015509463861851338</td><td>9</td><td>9</td><td>cash</td><td>-77.23777358815519</td></tr>\n",
       "<tr><td>dataset-7</td><td>40</td><td>11.082965048667592</td><td>28.917034951332408</td><td>6.696532422922201</td><td>33.718423269616785</td><td>11.082965048667592</td><td>22.635458220949193</td><td>117893401.12267591</td><td>8741059556.774721</td><td>1800.0</td><td>1800.0</td><td>0.022222222222222223</td><td>0.0061572028048153295</td><td>0.016065019417406894</td><td>9</td><td>9</td><td>cash</td><td>-57.732510967548436</td></tr>\n",
       "<tr><td>dataset-8</td><td>28</td><td>10.344100712089753</td><td>17.655899287910245</td><td>4.522425990839316</td><td>28.27631137353201</td><td>10.344100712089753</td><td>17.932210661442255</td><td>110033841.04783085</td><td>8158322252.989739</td><td>1680.0</td><td>1680.0</td><td>0.016666666666666666</td><td>0.0061572028048153295</td><td>0.010509463861851337</td><td>9</td><td>9</td><td>cash</td><td>-41.2033566933964</td></tr>\n",
       "<tr><td>dataset-9</td><td>18</td><td>8.127507702356235</td><td>9.872492297643765</td><td>2.979805889159862</td><td>20.152735279099808</td><td>8.127507702356235</td><td>12.025227576743573</td><td>86455160.82329567</td><td>6410110341.634795</td><td>1320.0</td><td>1320.0</td><td>0.013636363636363636</td><td>0.0061572028048153295</td><td>0.007479160831548307</td><td>9</td><td>9</td><td>cash</td><td>3.4044374894270173</td></tr>\n",
       "</table></div>"
      ],
      "text/plain": [
       "<Table length=10>\n",
       "   name   counts     background     ... stat_type       stat_sum     \n",
       "                                    ...                              \n",
       "   str9   int64       float64       ...    str4         float64      \n",
       "--------- ------ ------------------ ... --------- -------------------\n",
       "  stacked    341 10.344099998474121 ...      cash                 nan\n",
       "dataset-1    334 10.344100712089753 ...      cash  -2064.134711431829\n",
       "dataset-2    304 10.344100712089753 ...      cash  -1870.097838152363\n",
       "dataset-3    214  7.388643365778396 ...      cash -1141.2273556350483\n",
       "dataset-4    255 11.082965048667592 ...      cash -1457.7074771887246\n",
       "dataset-5     37 11.082965048667592 ...      cash  -66.95884255720794\n",
       "dataset-6     39 11.082965048667592 ...      cash  -77.23777358815519\n",
       "dataset-7     40 11.082965048667592 ...      cash -57.732510967548436\n",
       "dataset-8     28 10.344100712089753 ...      cash   -41.2033566933964\n",
       "dataset-9     18  8.127507702356235 ...      cash  3.4044374894270173"
      ]
     },
     "execution_count": 10,
     "metadata": {},
     "output_type": "execute_result"
    }
   ],
   "source": [
    "datasets.info_table()"
   ]
  },
  {
   "cell_type": "markdown",
   "metadata": {},
   "source": [
    "**Note:** The DL4 simulation is done. If you were reducing real data (eg: PKS2155-304 H.E.S.S. flare), the rest of the step remain similar"
   ]
  },
  {
   "cell_type": "markdown",
   "metadata": {},
   "source": [
    "#### Getting the cumulative significance"
   ]
  },
  {
   "cell_type": "code",
   "execution_count": 11,
   "metadata": {},
   "outputs": [],
   "source": [
    "info_table = datasets.info_table(cumulative=True)"
   ]
  },
  {
   "cell_type": "code",
   "execution_count": 12,
   "metadata": {},
   "outputs": [
    {
     "data": {
      "image/png": "[encoded data removed]",
      "text/plain": [
       "<Figure size 1008x504 with 2 Axes>"
      ]
     },
     "metadata": {
      "needs_background": "light"
     },
     "output_type": "display_data"
    }
   ],
   "source": [
    "plt.figure(figsize=(14,7))\n",
    "ax=plt.subplot(121)\n",
    "ax.plot(\n",
    "    info_table[\"livetime\"].to(\"h\"), info_table[\"excess\"], marker=\"o\", ls=\"none\"\n",
    ")\n",
    "plt.xlabel(\"Livetime [h]\")\n",
    "plt.ylabel(\"Excess\");\n",
    "ax2=plt.subplot(122)\n",
    "plt.plot(\n",
    "    info_table[\"livetime\"].to(\"h\"),\n",
    "    info_table[\"sqrt_ts\"],\n",
    "    marker=\"o\",\n",
    "    ls=\"none\",\n",
    ")\n",
    "plt.xlabel(\"Livetime [h]\")\n",
    "plt.ylabel(\"Sqrt(TS)\");"
   ]
  },
  {
   "cell_type": "markdown",
   "metadata": {},
   "source": [
    "#### Exploring individual spectra "
   ]
  },
  {
   "cell_type": "code",
   "execution_count": 13,
   "metadata": {},
   "outputs": [
    {
     "data": {
      "image/png": "[encoded data removed]",
      "text/plain": [
       "<Figure size 1152x288 with 4 Axes>"
      ]
     },
     "metadata": {
      "needs_background": "light"
     },
     "output_type": "display_data"
    }
   ],
   "source": [
    "datasets[0].peek();"
   ]
  },
  {
   "cell_type": "markdown",
   "metadata": {},
   "source": [
    "## Fit the datasets"
   ]
  },
  {
   "cell_type": "code",
   "execution_count": 14,
   "metadata": {},
   "outputs": [
    {
     "name": "stderr",
     "output_type": "stream",
     "text": [
      "/Users/ASinha/opt/anaconda3/envs/gammapy-0.19/lib/python3.9/site-packages/astropy/units/quantity.py:486: RuntimeWarning: overflow encountered in exp\n",
      "  result = super().__array_ufunc__(function, method, *arrays, **kwargs)\n",
      "/Users/ASinha/opt/anaconda3/envs/gammapy-0.19/lib/python3.9/site-packages/astropy/units/quantity.py:486: RuntimeWarning: invalid value encountered in subtract\n",
      "  result = super().__array_ufunc__(function, method, *arrays, **kwargs)\n"
     ]
    }
   ],
   "source": [
    "# Define the model:\n",
    "spectral_model1 = PowerLawSpectralModel(\n",
    "    index=2.0, amplitude=\"1e-12 cm-2 s-1 TeV-1\", reference=\"1 TeV\"\n",
    ")\n",
    "temporal_model1 = ExpDecayTemporalModel(t0=\"10 h\", t_ref=gti_t0.mjd * u.d)\n",
    "\n",
    "model = SkyModel(\n",
    "    spectral_model=spectral_model1,\n",
    "    temporal_model=temporal_model1,\n",
    "    name=\"model-test\",\n",
    ")"
   ]
  },
  {
   "cell_type": "code",
   "execution_count": 15,
   "metadata": {},
   "outputs": [],
   "source": [
    "datasets.models = model"
   ]
  },
  {
   "cell_type": "code",
   "execution_count": 16,
   "metadata": {},
   "outputs": [
    {
     "name": "stdout",
     "output_type": "stream",
     "text": [
      "CPU times: user 5.57 s, sys: 33.7 ms, total: 5.6 s\n",
      "Wall time: 5.6 s\n"
     ]
    }
   ],
   "source": [
    "%%time\n",
    "# Do a joint fit\n",
    "fit = Fit()\n",
    "result = fit.run(datasets=datasets)"
   ]
  },
  {
   "cell_type": "code",
   "execution_count": 17,
   "metadata": {},
   "outputs": [
    {
     "data": {
      "text/html": [
       "<div><i>Table length=5</i>\n",
       "<table id=\"table6075384208\" class=\"table-striped table-bordered table-condensed\">\n",
       "<thead><tr><th>type</th><th>name</th><th>value</th><th>unit</th><th>error</th><th>min</th><th>max</th><th>frozen</th><th>link</th></tr></thead>\n",
       "<thead><tr><th>str8</th><th>str9</th><th>float64</th><th>str14</th><th>float64</th><th>float64</th><th>float64</th><th>bool</th><th>str1</th></tr></thead>\n",
       "<tr><td>spectral</td><td>index</td><td>2.9979e+00</td><td></td><td>3.792e-02</td><td>nan</td><td>nan</td><td>False</td><td></td></tr>\n",
       "<tr><td>spectral</td><td>amplitude</td><td>9.4027e-12</td><td>cm-2 s-1 TeV-1</td><td>3.938e-13</td><td>nan</td><td>nan</td><td>False</td><td></td></tr>\n",
       "<tr><td>spectral</td><td>reference</td><td>1.0000e+00</td><td>TeV</td><td>0.000e+00</td><td>nan</td><td>nan</td><td>True</td><td></td></tr>\n",
       "<tr><td>temporal</td><td>t0</td><td>6.2833e+00</td><td>h</td><td>2.776e-01</td><td>nan</td><td>nan</td><td>False</td><td></td></tr>\n",
       "<tr><td>temporal</td><td>t_ref</td><td>5.8909e+04</td><td>d</td><td>0.000e+00</td><td>nan</td><td>nan</td><td>True</td><td></td></tr>\n",
       "</table></div>"
      ],
      "text/plain": [
       "<Table length=5>\n",
       "  type      name     value         unit      ...   min     max   frozen link\n",
       "  str8      str9    float64       str14      ... float64 float64  bool  str1\n",
       "-------- --------- ---------- -------------- ... ------- ------- ------ ----\n",
       "spectral     index 2.9979e+00                ...     nan     nan  False     \n",
       "spectral amplitude 9.4027e-12 cm-2 s-1 TeV-1 ...     nan     nan  False     \n",
       "spectral reference 1.0000e+00            TeV ...     nan     nan   True     \n",
       "temporal        t0 6.2833e+00              h ...     nan     nan  False     \n",
       "temporal     t_ref 5.8909e+04              d ...     nan     nan   True     "
      ]
     },
     "execution_count": 17,
     "metadata": {},
     "output_type": "execute_result"
    }
   ],
   "source": [
    "result.parameters.to_table()"
   ]
  },
  {
   "cell_type": "markdown",
   "metadata": {},
   "source": [
    "We see that the fitted parameters match well with the simulated ones!"
   ]
  },
  {
   "cell_type": "markdown",
   "metadata": {},
   "source": [
    "### Group the spectra and stack them\n",
    "- It can be interesting to do a nightly fit\n",
    "- stack together the spectra every night to do a fit\n",
    "- We use the Dataset.stack_reduce() method which returns a single stacked dataset (if they all share the geometry)."
   ]
  },
  {
   "cell_type": "code",
   "execution_count": 18,
   "metadata": {},
   "outputs": [
    {
     "name": "stdout",
     "output_type": "stream",
     "text": [
      "SpectrumDataset\n",
      "---------------\n",
      "\n",
      "  Name                            : night1 \n",
      "\n",
      "  Total counts                    : 1448 \n",
      "  Total background counts         : 49.50\n",
      "  Total excess counts             : 1398.50\n",
      "\n",
      "  Predicted counts                : 49.50\n",
      "  Predicted background counts     : 49.50\n",
      "  Predicted excess counts         : nan\n",
      "\n",
      "  Exposure min                    : 5.27e+08 m2 s\n",
      "  Exposure max                    : 3.90e+10 m2 s\n",
      "\n",
      "  Number of total bins            : 9 \n",
      "  Number of fit bins              : 9 \n",
      "\n",
      "  Fit statistic type              : cash\n",
      "  Fit statistic value (-2 log(L)) : nan\n",
      "\n",
      "  Number of models                : 0 \n",
      "  Number of parameters            : 0\n",
      "  Number of free parameters       : 0\n",
      "\n",
      "\n"
     ]
    }
   ],
   "source": [
    "night1_dataset = Datasets(datasets[:5]).stack_reduce(name=\"night1\")\n",
    "\n",
    "night2_dataset = Datasets(datasets[5:]).stack_reduce(name=\"night2\")\n",
    "#datasets.select_time?\n",
    "print(night1_dataset)"
   ]
  },
  {
   "cell_type": "markdown",
   "metadata": {},
   "source": [
    "### Fit on a nightly basis"
   ]
  },
  {
   "cell_type": "code",
   "execution_count": 19,
   "metadata": {},
   "outputs": [],
   "source": [
    "spectral_model = PowerLawSpectralModel(\n",
    "    index=2, amplitude=2e-11 * u.Unit(\"cm-2 s-1 TeV-1\")\n",
    ")\n",
    "model_1 = SkyModel(spectral_model=spectral_model, name=\"night1\")\n",
    "model_2 = model_1.copy(name=\"night2\")"
   ]
  },
  {
   "cell_type": "code",
   "execution_count": 20,
   "metadata": {},
   "outputs": [],
   "source": [
    "night1_dataset.models = model_1\n",
    "night2_dataset.models = model_2"
   ]
  },
  {
   "cell_type": "markdown",
   "metadata": {},
   "source": [
    "#### For night 1"
   ]
  },
  {
   "cell_type": "code",
   "execution_count": 21,
   "metadata": {},
   "outputs": [
    {
     "name": "stdout",
     "output_type": "stream",
     "text": [
      "True\n",
      "  type      name     value         unit        error   min max frozen link\n",
      "-------- --------- ---------- -------------- --------- --- --- ------ ----\n",
      "spectral     index 3.0134e+00                3.929e-02 nan nan  False     \n",
      "spectral amplitude 5.5625e-12 cm-2 s-1 TeV-1 1.763e-13 nan nan  False     \n",
      "spectral reference 1.0000e+00            TeV 0.000e+00 nan nan   True     \n"
     ]
    }
   ],
   "source": [
    "fit1 = Fit()\n",
    "result_fit1 = fit1.run([night1_dataset])\n",
    "print(result_fit1.success)\n",
    "print(result_fit1.parameters.to_table())"
   ]
  },
  {
   "cell_type": "markdown",
   "metadata": {},
   "source": [
    "Checking the correlation matrix: It might useful to check the correlation matrix of your fit."
   ]
  },
  {
   "cell_type": "code",
   "execution_count": 22,
   "metadata": {},
   "outputs": [
    {
     "data": {
      "text/plain": [
       "<AxesSubplot:>"
      ]
     },
     "execution_count": 22,
     "metadata": {},
     "output_type": "execute_result"
    },
    {
     "data": {
      "image/png": "[encoded data removed]",
      "text/plain": [
       "<Figure size 172.8x140.4 with 2 Axes>"
      ]
     },
     "metadata": {
      "needs_background": "light"
     },
     "output_type": "display_data"
    }
   ],
   "source": [
    "model_1.covariance.plot_correlation()"
   ]
  },
  {
   "cell_type": "code",
   "execution_count": 23,
   "metadata": {},
   "outputs": [
    {
     "data": {
      "image/png": "[encoded data removed]",
      "text/plain": [
       "<Figure size 576x504 with 2 Axes>"
      ]
     },
     "metadata": {
      "needs_background": "light"
     },
     "output_type": "display_data"
    }
   ],
   "source": [
    "night1_dataset.plot_fit(); ## Plot the convolved spectral plot fit "
   ]
  },
  {
   "cell_type": "markdown",
   "metadata": {},
   "source": [
    "You can do similarly for night2. The parameters are, as expected, different. You can also do it together"
   ]
  },
  {
   "cell_type": "code",
   "execution_count": 24,
   "metadata": {},
   "outputs": [
    {
     "name": "stdout",
     "output_type": "stream",
     "text": [
      "True\n"
     ]
    },
    {
     "data": {
      "text/html": [
       "<div><i>Table length=6</i>\n",
       "<table id=\"table6078831632\" class=\"table-striped table-bordered table-condensed\">\n",
       "<thead><tr><th>model</th><th>type</th><th>name</th><th>value</th><th>unit</th><th>error</th><th>min</th><th>max</th><th>frozen</th><th>link</th></tr></thead>\n",
       "<thead><tr><th>str6</th><th>str8</th><th>str9</th><th>float64</th><th>str14</th><th>float64</th><th>float64</th><th>float64</th><th>bool</th><th>str1</th></tr></thead>\n",
       "<tr><td>night1</td><td>spectral</td><td>index</td><td>3.0134e+00</td><td></td><td>3.929e-02</td><td>nan</td><td>nan</td><td>False</td><td></td></tr>\n",
       "<tr><td>night1</td><td>spectral</td><td>amplitude</td><td>5.5626e-12</td><td>cm-2 s-1 TeV-1</td><td>1.763e-13</td><td>nan</td><td>nan</td><td>False</td><td></td></tr>\n",
       "<tr><td>night1</td><td>spectral</td><td>reference</td><td>1.0000e+00</td><td>TeV</td><td>0.000e+00</td><td>nan</td><td>nan</td><td>True</td><td></td></tr>\n",
       "<tr><td>night2</td><td>spectral</td><td>index</td><td>2.7627e+00</td><td></td><td>1.412e-01</td><td>nan</td><td>nan</td><td>False</td><td></td></tr>\n",
       "<tr><td>night2</td><td>spectral</td><td>amplitude</td><td>4.6254e-13</td><td>cm-2 s-1 TeV-1</td><td>5.458e-14</td><td>nan</td><td>nan</td><td>False</td><td></td></tr>\n",
       "<tr><td>night2</td><td>spectral</td><td>reference</td><td>1.0000e+00</td><td>TeV</td><td>0.000e+00</td><td>nan</td><td>nan</td><td>True</td><td></td></tr>\n",
       "</table></div>"
      ],
      "text/plain": [
       "<Table length=6>\n",
       "model    type      name     value    ...   min     max   frozen link\n",
       " str6    str8      str9    float64   ... float64 float64  bool  str1\n",
       "------ -------- --------- ---------- ... ------- ------- ------ ----\n",
       "night1 spectral     index 3.0134e+00 ...     nan     nan  False     \n",
       "night1 spectral amplitude 5.5626e-12 ...     nan     nan  False     \n",
       "night1 spectral reference 1.0000e+00 ...     nan     nan   True     \n",
       "night2 spectral     index 2.7627e+00 ...     nan     nan  False     \n",
       "night2 spectral amplitude 4.6254e-13 ...     nan     nan  False     \n",
       "night2 spectral reference 1.0000e+00 ...     nan     nan   True     "
      ]
     },
     "execution_count": 24,
     "metadata": {},
     "output_type": "execute_result"
    }
   ],
   "source": [
    "datasets_nightly = Datasets([night1_dataset, night2_dataset])\n",
    "fit_joint = Fit()\n",
    "result_fit_joint = fit_joint.run(datasets_nightly)\n",
    "print(result_fit_joint.success)\n",
    "datasets_nightly.models.to_parameters_table()"
   ]
  },
  {
   "cell_type": "markdown",
   "metadata": {},
   "source": [
    "Plotting the spectral butterfly"
   ]
  },
  {
   "cell_type": "code",
   "execution_count": 25,
   "metadata": {},
   "outputs": [
    {
     "data": {
      "text/plain": [
       "<matplotlib.legend.Legend at 0x16a539a60>"
      ]
     },
     "execution_count": 25,
     "metadata": {},
     "output_type": "execute_result"
    },
    {
     "data": {
      "image/png": "[encoded data removed]",
      "text/plain": [
       "<Figure size 432x288 with 1 Axes>"
      ]
     },
     "metadata": {
      "needs_background": "light"
     },
     "output_type": "display_data"
    }
   ],
   "source": [
    "energy_range = [0.15, 30]*u.TeV\n",
    "\n",
    "ax=model_1.spectral_model.plot(energy_bounds=energy_range, energy_power=2, label='night 1')\n",
    "model_1.spectral_model.plot_error(ax=ax, energy_bounds=energy_range, energy_power=2)\n",
    "\n",
    "model_2.spectral_model.plot(ax=ax, energy_bounds=energy_range, energy_power=2, label='night 2')\n",
    "model_2.spectral_model.plot_error(ax=ax, energy_bounds=energy_range, energy_power=2)\n",
    "\n",
    "plt.legend()"
   ]
  },
  {
   "cell_type": "markdown",
   "metadata": {},
   "source": [
    "## Extract the lightcurve\n",
    "\n",
    "A lightcurve returns a flux as a function of time in different energy bands. Note that this is NOT the same a time resolved spectroscopy, \n",
    "\n",
    "Only a spectral model needs to be defined in this case. Since the estimator returns the integrated flux separately for each time bin, the temporal model need not be accounted for at this stage."
   ]
  },
  {
   "cell_type": "code",
   "execution_count": 26,
   "metadata": {},
   "outputs": [],
   "source": [
    "# Define the model:\n",
    "spectral_model = PowerLawSpectralModel(\n",
    "    index=3, amplitude=\"1e-11 cm-2 s-1 TeV-1\", reference=\"1 TeV\"\n",
    ")\n",
    "model_fit = SkyModel(spectral_model=spectral_model, name=\"model-fit\")"
   ]
  },
  {
   "cell_type": "code",
   "execution_count": 27,
   "metadata": {},
   "outputs": [],
   "source": [
    "# Attach model to all datasets\n",
    "datasets.models = model_fit"
   ]
  },
  {
   "cell_type": "code",
   "execution_count": 28,
   "metadata": {},
   "outputs": [
    {
     "name": "stdout",
     "output_type": "stream",
     "text": [
      "CPU times: user 5.29 s, sys: 65.8 ms, total: 5.36 s\n",
      "Wall time: 5.36 s\n"
     ]
    }
   ],
   "source": [
    "%%time\n",
    "lc_maker_1d = LightCurveEstimator(\n",
    "    energy_edges=[0.3, 0.8, 2.0, 10] * u.TeV,\n",
    "    source=\"model-fit\",\n",
    "    selection_optional=[\"ul\"],\n",
    ")\n",
    "lc_1d = lc_maker_1d.run(datasets)"
   ]
  },
  {
   "cell_type": "code",
   "execution_count": 29,
   "metadata": {},
   "outputs": [
    {
     "data": {
      "text/plain": [
       "RegionNDMap\n",
       "\n",
       "\tgeom  : RegionGeom \n",
       " \taxes  : ['lon', 'lat', 'energy', 'time']\n",
       "\tshape : (1, 1, 3, 10)\n",
       "\tndim  : 4\n",
       "\tunit  : 1 / (cm2 s TeV)\n",
       "\tdtype : float64"
      ]
     },
     "execution_count": 29,
     "metadata": {},
     "output_type": "execute_result"
    }
   ],
   "source": [
    "lc_1d.dnde"
   ]
  },
  {
   "cell_type": "code",
   "execution_count": 30,
   "metadata": {},
   "outputs": [
    {
     "data": {
      "image/png": "[encoded data removed]",
      "text/plain": [
       "<Figure size 432x288 with 1 Axes>"
      ]
     },
     "metadata": {
      "needs_background": "light"
     },
     "output_type": "display_data"
    }
   ],
   "source": [
    "ax = lc_1d.plot(axis_name=\"time\")"
   ]
  },
  {
   "cell_type": "code",
   "execution_count": 31,
   "metadata": {
    "nbsphinx-thumbnail": {
     "tooltip": "Simulate and fit a time decaying light curve of a source using the CTA 1DC response."
    }
   },
   "outputs": [
    {
     "data": {
      "image/png": "[encoded data removed]",
      "text/plain": [
       "<Figure size 432x288 with 1 Axes>"
      ]
     },
     "metadata": {
      "needs_background": "light"
     },
     "output_type": "display_data"
    }
   ],
   "source": [
    "ax = lc_1d.plot(axis_name=\"energy\", sed_type=\"e2dnde\")\n",
    "ax.get_legend().remove()"
   ]
  },
  {
   "cell_type": "markdown",
   "metadata": {},
   "source": [
    "## Exercises\n",
    "\n",
    "1. Re-do the analysis with `MapDataset` instead of `SpectralDataset`. You will need to define a spatial model. Does the analysis take more time?\n",
    "2. Model the flare of PKS 2155-304 which you obtained using the [light curve flare tutorial](light_curve_flare.ipynb). Use a combination of a Gaussian and Exponential flare profiles, and fit using `scipy.optimize.curve_fit`\n",
    "3. Do a joint fitting of the datasets.\n",
    "4. Simulate the H.E.S.S. detection of GRB 190829A afterglow with CTA 1DC \n",
    "response: https://www.science.org/doi/10.1126/science.abe8560"
   ]
  }
 ],
 "metadata": {
  "kernelspec": {
   "display_name": "Python 3 (ipykernel)",
   "language": "python",
   "name": "python3"
  },
  "language_info": {
   "codemirror_mode": {
    "name": "ipython",
    "version": 3
   },
   "file_extension": ".py",
   "mimetype": "text/x-python",
   "name": "python",
   "nbconvert_exporter": "python",
   "pygments_lexer": "ipython3",
   "version": "3.9.9"
  },
  "latex_envs": {
   "LaTeX_envs_menu_present": true,
   "autoclose": false,
   "autocomplete": true,
   "bibliofile": "biblio.bib",
   "cite_by": "apalike",
   "current_citInitial": 1,
   "eqLabelWithNumbers": true,
   "eqNumInitial": 1,
   "hotkeys": {
    "equation": "Ctrl-E",
    "itemize": "Ctrl-I"
   },
   "labels_anchors": false,
   "latex_user_defs": false,
   "report_style_numbering": false,
   "user_envs_cfg": false
  }
 },
 "nbformat": 4,
 "nbformat_minor": 4
}
