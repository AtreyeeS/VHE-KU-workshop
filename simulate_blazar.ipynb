{
 "cells": [
  {
   "cell_type": "markdown",
   "metadata": {},
   "source": [
    "# Simulation using CTA IRFs\n",
    "\n",
    "- Intrinsic spectrum assumed to be extrapolation of the Fermi-LAT spectrum (showing example of `gammapy.catalog`)\n",
    "- Add EBL absorpsion\n",
    "- Simulated CTA DL4 data"
   ]
  },
  {
   "cell_type": "code",
   "execution_count": 94,
   "metadata": {},
   "outputs": [],
   "source": [
    "%matplotlib inline"
   ]
  },
  {
   "cell_type": "code",
   "execution_count": 95,
   "metadata": {},
   "outputs": [],
   "source": [
    "import numpy as np\n",
    "import astropy.units as u\n",
    "from astropy.coordinates import SkyCoord\n",
    "from gammapy.irf import load_cta_irfs\n",
    "from gammapy.maps import WcsGeom, MapAxis\n",
    "from gammapy.modeling.models import (\n",
    "    PowerLawSpectralModel,\n",
    "    PointSpatialModel,\n",
    "    SkyModel,\n",
    "    Models,\n",
    "    FoVBackgroundModel,\n",
    "    EBLAbsorptionNormSpectralModel\n",
    ")\n",
    "from gammapy.makers import MapDatasetMaker, SafeMaskMaker\n",
    "from gammapy.modeling import Fit\n",
    "from gammapy.data import Observation\n",
    "from gammapy.datasets import MapDataset\n",
    "\n",
    "from gammapy.catalog import SourceCatalog4FGL"
   ]
  },
  {
   "cell_type": "markdown",
   "metadata": {},
   "source": [
    "## Use gammapy.catalog to find the Fermi spectrum\n",
    "- see https://docs.gammapy.org/0.19/tutorials/api/catalog.html for details"
   ]
  },
  {
   "cell_type": "code",
   "execution_count": 96,
   "metadata": {},
   "outputs": [
    {
     "data": {
      "text/plain": [
       "'LAT 8-year point source catalog'"
      ]
     },
     "execution_count": 96,
     "metadata": {},
     "output_type": "execute_result"
    }
   ],
   "source": [
    "catalog = SourceCatalog4FGL()\n",
    "catalog.description"
   ]
  },
  {
   "cell_type": "code",
   "execution_count": 97,
   "metadata": {},
   "outputs": [],
   "source": [
    "## explore some other catalogs"
   ]
  },
  {
   "cell_type": "code",
   "execution_count": 98,
   "metadata": {},
   "outputs": [],
   "source": [
    "#catalog.table"
   ]
  },
  {
   "cell_type": "code",
   "execution_count": 99,
   "metadata": {},
   "outputs": [],
   "source": [
    "source = catalog[\"PKS 2155-304\"]"
   ]
  },
  {
   "cell_type": "code",
   "execution_count": 100,
   "metadata": {},
   "outputs": [
    {
     "name": "stdout",
     "output_type": "stream",
     "text": [
      "\n",
      "*** Basic info ***\n",
      "\n",
      "Catalog row index (zero-based) : 5400\n",
      "Source name          : 4FGL J2158.8-3013\n",
      "Extended name        :                   \n",
      "Associations     : PKS 2155-304, PKS 2155-304, 3FGL J2158.8-3013, 3FHL J2158.8-3013, J2157-3015, 3EG J2158-3023, EGR J2200-3015\n",
      "ASSOC_PROB_BAY   : 1.000\n",
      "ASSOC_PROB_LR    : 1.000\n",
      "Class1           : bll  \n",
      "Class2           :      \n",
      "TeVCat flag      : P\n",
      "\n",
      "*** Other info ***\n",
      "\n",
      "Significance (100 MeV - 1 TeV)   : 224.639\n",
      "Npred                            : 15833.8\n",
      "\n",
      "Other flags          : 0\n",
      "\n",
      "*** Position info ***\n",
      "\n",
      "RA                   : 329.714 deg\n",
      "DEC                  : -30.225 deg\n",
      "GLON                 : 17.731 deg\n",
      "GLAT                 : -52.243 deg\n",
      "\n",
      "Semimajor (68%)      : 0.0049 deg\n",
      "Semiminor (68%)      : 0.0049 deg\n",
      "Position angle (68%) : -22.82 deg\n",
      "Semimajor (95%)      : 0.0079 deg\n",
      "Semiminor (95%)      : 0.0079 deg\n",
      "Position angle (95%) : -22.82 deg\n",
      "ROI number           : 1355\n",
      "\n",
      "*** Spectral info ***\n",
      "\n",
      "Spectrum type                                 : LogParabola      \n",
      "Detection significance (100 MeV - 1 TeV)      : 224.639\n",
      "beta                                          : 0.0410 +- 0.00412\n",
      "Significance curvature                        : 5.0\n",
      "Pivot energy                                  : 1119 MeV\n",
      "Spectral index                                : 1.767 +- 0.012\n",
      "Flux Density at pivot energy                  : 1.44e-11 +- 1.66e-13 cm-2 MeV-1 s-1\n",
      "Integral flux (1 - 100 GeV)                   : 2.05e-08 +- 2.39e-10 cm-2 s-1\n",
      "Energy flux (100 MeV - 100 GeV)               : 2.16e-10 +- 3.3e-12 erg cm-2 s-1\n",
      "\n",
      "*** Spectral points ***\n",
      "\n",
      "  e_min     e_max        flux     flux_errn   flux_errp      e2dnde     e2dnde_errn   e2dnde_errp  is_ul   flux_ul     e2dnde_ul   sqrt_ts\n",
      "   MeV       MeV     1 / (cm2 s) 1 / (cm2 s) 1 / (cm2 s) erg / (cm2 s) erg / (cm2 s) erg / (cm2 s)       1 / (cm2 s) erg / (cm2 s)        \n",
      "--------- ---------- ----------- ----------- ----------- ------------- ------------- ------------- ----- ----------- ------------- -------\n",
      "   50.000    100.000   8.811e-08   3.040e-08   3.097e-08     1.438e-11     4.960e-12     5.054e-12 False         nan           nan   2.534\n",
      "  100.000    300.000   6.859e-08   3.021e-09   3.021e-09     1.713e-11     7.543e-13     7.543e-13 False         nan           nan  25.058\n",
      "  300.000   1000.000   3.349e-08   6.226e-10   6.226e-10     2.380e-11     4.425e-13     4.425e-13 False         nan           nan  88.745\n",
      " 1000.000   3000.000   1.275e-08   2.198e-10   2.198e-10     3.124e-11     5.386e-13     5.386e-13 False         nan           nan 128.293\n",
      " 3000.000  10000.000   5.410e-09   1.249e-10   1.249e-10     3.760e-11     8.681e-13     8.681e-13 False         nan           nan 120.772\n",
      "10000.000  30000.000   1.769e-09   6.803e-11   6.803e-11     4.254e-11     1.636e-12     1.636e-12 False         nan           nan  82.057\n",
      "30000.000 300000.000   6.966e-10   4.141e-11   4.141e-11     3.530e-11     2.099e-12     2.099e-12 False         nan           nan  54.027\n",
      "*** Lightcurve info ***\n",
      "\n",
      "Lightcurve measured in the energy band: 100 MeV - 100 GeV\n",
      "\n",
      "Variability index : 656.054\n",
      "Significance peak (100 MeV - 100 GeV)    : 98.236\n",
      "Integral flux peak (100 MeV - 100 GeV)   : 1.71e-07 +- 4.01e-09 cm^-2 s^-1\n",
      "Time peak                                : 2.55e+08 s (Mission elapsed time)\n",
      "Peak interval                            : 3.63e+02 day\n",
      "\n"
     ]
    }
   ],
   "source": [
    "print(source)"
   ]
  },
  {
   "cell_type": "code",
   "execution_count": 101,
   "metadata": {},
   "outputs": [
    {
     "data": {
      "text/plain": [
       "5400"
      ]
     },
     "execution_count": 101,
     "metadata": {},
     "output_type": "execute_result"
    }
   ],
   "source": [
    "source.row_index"
   ]
  },
  {
   "cell_type": "code",
   "execution_count": 102,
   "metadata": {},
   "outputs": [
    {
     "data": {
      "text/html": [
       "<i>Row index=5400</i>\n",
       "<table id=\"table140652500143520\">\n",
       "<thead><tr><th>Source_Name</th><th>DataRelease</th><th>RAJ2000</th><th>DEJ2000</th><th>GLON</th><th>GLAT</th><th>Conf_68_SemiMajor</th><th>Conf_68_SemiMinor</th><th>Conf_68_PosAng</th><th>Conf_95_SemiMajor</th><th>Conf_95_SemiMinor</th><th>Conf_95_PosAng</th><th>ROI_num</th><th>Extended_Source_Name</th><th>Signif_Avg</th><th>Pivot_Energy</th><th>Flux1000</th><th>Unc_Flux1000</th><th>Energy_Flux100</th><th>Unc_Energy_Flux100</th><th>SpectrumType</th><th>PL_Flux_Density</th><th>Unc_PL_Flux_Density</th><th>PL_Index</th><th>Unc_PL_Index</th><th>LP_Flux_Density</th><th>Unc_LP_Flux_Density</th><th>LP_Index</th><th>Unc_LP_Index</th><th>LP_beta</th><th>Unc_LP_beta</th><th>LP_SigCurv</th><th>PLEC_Flux_Density</th><th>Unc_PLEC_Flux_Density</th><th>PLEC_Index</th><th>Unc_PLEC_Index</th><th>PLEC_Expfactor</th><th>Unc_PLEC_Expfactor</th><th>PLEC_Exp_Index</th><th>Unc_PLEC_Exp_Index</th><th>PLEC_SigCurv</th><th>Npred</th><th>Flux_Band [7]</th><th>Unc_Flux_Band [7,2]</th><th>nuFnu_Band [7]</th><th>Sqrt_TS_Band [7]</th><th>Variability_Index</th><th>Frac_Variability</th><th>Unc_Frac_Variability</th><th>Signif_Peak</th><th>Flux_Peak</th><th>Unc_Flux_Peak</th><th>Time_Peak</th><th>Peak_Interval</th><th>Flux_History [10]</th><th>Unc_Flux_History [10,2]</th><th>Sqrt_TS_History [10]</th><th>ASSOC_FGL</th><th>ASSOC_FHL</th><th>ASSOC_GAM1</th><th>ASSOC_GAM2</th><th>ASSOC_GAM3</th><th>TEVCAT_FLAG</th><th>ASSOC_TEV</th><th>CLASS1</th><th>CLASS2</th><th>ASSOC1</th><th>ASSOC2</th><th>ASSOC_PROB_BAY</th><th>ASSOC_PROB_LR</th><th>RA_Counterpart</th><th>DEC_Counterpart</th><th>Unc_Counterpart</th><th>Flags</th></tr></thead>\n",
       "<thead><tr><th></th><th></th><th>deg</th><th>deg</th><th>deg</th><th>deg</th><th>deg</th><th>deg</th><th>deg</th><th>deg</th><th>deg</th><th>deg</th><th></th><th></th><th></th><th>MeV</th><th>1 / (cm2 s)</th><th>1 / (cm2 s)</th><th>erg / (cm2 s)</th><th>erg / (cm2 s)</th><th></th><th>1 / (cm2 MeV s)</th><th>1 / (cm2 MeV s)</th><th></th><th></th><th>1 / (cm2 MeV s)</th><th>1 / (cm2 MeV s)</th><th></th><th></th><th></th><th></th><th></th><th>1 / (cm2 MeV s)</th><th>1 / (cm2 MeV s)</th><th></th><th></th><th></th><th></th><th></th><th></th><th></th><th></th><th>1 / (cm2 s)</th><th>1 / (cm2 s)</th><th>erg / (cm2 s)</th><th></th><th></th><th></th><th></th><th></th><th>1 / (cm2 s)</th><th>1 / (cm2 s)</th><th>s</th><th>s</th><th>1 / (cm2 s)</th><th>1 / (cm2 s)</th><th></th><th></th><th></th><th></th><th></th><th></th><th></th><th></th><th></th><th></th><th></th><th></th><th></th><th></th><th>deg</th><th>deg</th><th>deg</th><th></th></tr></thead>\n",
       "<thead><tr><th>bytes18</th><th>int16</th><th>float32</th><th>float32</th><th>float32</th><th>float32</th><th>float32</th><th>float32</th><th>float32</th><th>float32</th><th>float32</th><th>float32</th><th>int16</th><th>bytes18</th><th>float32</th><th>float32</th><th>float32</th><th>float32</th><th>float32</th><th>float32</th><th>bytes17</th><th>float32</th><th>float32</th><th>float32</th><th>float32</th><th>float32</th><th>float32</th><th>float32</th><th>float32</th><th>float32</th><th>float32</th><th>float32</th><th>float32</th><th>float32</th><th>float32</th><th>float32</th><th>float32</th><th>float32</th><th>float32</th><th>float32</th><th>float32</th><th>float32</th><th>float32</th><th>float32</th><th>float32</th><th>float32</th><th>float32</th><th>float32</th><th>float32</th><th>float32</th><th>float32</th><th>float32</th><th>float64</th><th>float32</th><th>float32</th><th>float32</th><th>float32</th><th>bytes18</th><th>bytes18</th><th>bytes18</th><th>bytes18</th><th>bytes18</th><th>bytes1</th><th>bytes26</th><th>bytes5</th><th>bytes5</th><th>bytes28</th><th>bytes26</th><th>float32</th><th>float32</th><th>float64</th><th>float64</th><th>float32</th><th>int16</th></tr></thead>\n",
       "<tr><td>4FGL J2158.8-3013</td><td>1</td><td>329.7141</td><td>-30.2251</td><td>17.7308</td><td>-52.2434</td><td>0.0049</td><td>0.0049</td><td>-22.820</td><td>0.0079</td><td>0.0079</td><td>-22.820</td><td>1355</td><td></td><td>224.639</td><td>1118.64</td><td>2.0495e-08</td><td>2.3869e-10</td><td>2.1621e-10</td><td>3.2972e-12</td><td>LogParabola</td><td>1.3735e-11</td><td>1.4466e-13</td><td>1.8507</td><td>0.0071</td><td>1.4365e-11</td><td>1.6555e-13</td><td>1.7668</td><td>0.0116</td><td>0.0410</td><td>0.0041</td><td>5.024</td><td>1.3951e-11</td><td>1.5212e-13</td><td>1.7437</td><td>0.0127</td><td>0.00047</td><td>0.00005</td><td>0.6667</td><td>--</td><td>5.391</td><td>15833.77</td><td>8.811208e-08 .. 6.9656847e-10</td><td>-3.0399406e-08 .. 4.141124e-11</td><td>1.4376523e-11 .. 3.529928e-11</td><td>2.5337915 .. 54.02705</td><td>656.0535</td><td>0.2555</td><td>0.0610</td><td>98.236</td><td>1.7111846e-07</td><td>4.005396e-09</td><td>255223712.0</td><td>31332582.0</td><td>1.7111846e-07 .. 1.1275729e-07</td><td>-4.005396e-09 .. 3.5797774e-09</td><td>98.23613 .. 69.82156</td><td>3FGL J2158.8-3013</td><td>3FHL J2158.8-3013</td><td>J2157-3015</td><td>3EG J2158-3023</td><td>EGR J2200-3015</td><td>P</td><td>PKS 2155-304</td><td>bll</td><td></td><td>PKS 2155-304</td><td></td><td>1.0000</td><td>0.9997</td><td>329.7169</td><td>-30.2256</td><td>0.00000</td><td>0</td></tr>\n",
       "</table>"
      ],
      "text/plain": [
       "<Row index=5400>\n",
       "   Source_Name     DataRelease RAJ2000  DEJ2000    GLON     GLAT   Conf_68_SemiMajor Conf_68_SemiMinor Conf_68_PosAng Conf_95_SemiMajor Conf_95_SemiMinor Conf_95_PosAng ROI_num Extended_Source_Name Signif_Avg Pivot_Energy   Flux1000  Unc_Flux1000 Energy_Flux100 Unc_Energy_Flux100    SpectrumType   PL_Flux_Density Unc_PL_Flux_Density PL_Index Unc_PL_Index LP_Flux_Density Unc_LP_Flux_Density LP_Index Unc_LP_Index LP_beta  Unc_LP_beta LP_SigCurv PLEC_Flux_Density Unc_PLEC_Flux_Density PLEC_Index Unc_PLEC_Index PLEC_Expfactor Unc_PLEC_Expfactor PLEC_Exp_Index Unc_PLEC_Exp_Index PLEC_SigCurv   Npred            Flux_Band [7]              Unc_Flux_Band [7,2]               nuFnu_Band [7]           Sqrt_TS_Band [7]   Variability_Index Frac_Variability Unc_Frac_Variability Signif_Peak   Flux_Peak   Unc_Flux_Peak  Time_Peak  Peak_Interval       Flux_History [10]           Unc_Flux_History [10,2]     Sqrt_TS_History [10]     ASSOC_FGL          ASSOC_FHL          ASSOC_GAM1         ASSOC_GAM2         ASSOC_GAM3     TEVCAT_FLAG         ASSOC_TEV          CLASS1 CLASS2            ASSOC1                      ASSOC2           ASSOC_PROB_BAY ASSOC_PROB_LR RA_Counterpart DEC_Counterpart Unc_Counterpart Flags\n",
       "                                 deg      deg      deg      deg           deg               deg             deg              deg               deg             deg                                                   MeV      1 / (cm2 s) 1 / (cm2 s)  erg / (cm2 s)    erg / (cm2 s)                      1 / (cm2 MeV s)   1 / (cm2 MeV s)                         1 / (cm2 MeV s)   1 / (cm2 MeV s)                                                          1 / (cm2 MeV s)     1 / (cm2 MeV s)                                                                                                                                   1 / (cm2 s)                   1 / (cm2 s)                   erg / (cm2 s)                                                                                                    1 / (cm2 s)   1 / (cm2 s)       s            s                1 / (cm2 s)                    1 / (cm2 s)                                                                                                                                                                                                                                                                              deg             deg             deg            \n",
       "     bytes18          int16    float32  float32  float32  float32       float32           float32         float32          float32           float32         float32      int16        bytes18         float32     float32      float32     float32       float32          float32            bytes17          float32           float32       float32    float32        float32           float32       float32    float32    float32    float32    float32        float32             float32         float32      float32        float32          float32          float32          float32         float32     float32              float32                       float32                        float32                   float32             float32          float32            float32          float32      float32       float32      float64      float32               float32                        float32                   float32             bytes18            bytes18            bytes18            bytes18            bytes18          bytes1            bytes26           bytes5 bytes5           bytes28                     bytes26              float32        float32       float64         float64         float32     int16\n",
       "------------------ ----------- -------- -------- -------- -------- ----------------- ----------------- -------------- ----------------- ----------------- -------------- ------- -------------------- ---------- ------------ ----------- ------------ -------------- ------------------ ----------------- --------------- ------------------- -------- ------------ --------------- ------------------- -------- ------------ -------- ----------- ---------- ----------------- --------------------- ---------- -------------- -------------- ------------------ -------------- ------------------ ------------ ---------- ----------------------------- ------------------------------ ----------------------------- --------------------- ----------------- ---------------- -------------------- ----------- ------------- ------------- ----------- ------------- ------------------------------ ------------------------------ -------------------- ------------------ ------------------ ------------------ ------------------ ------------------ ----------- -------------------------- ------ ------ ---------------------------- -------------------------- -------------- ------------- -------------- --------------- --------------- -----\n",
       "4FGL J2158.8-3013            1 329.7141 -30.2251  17.7308 -52.2434            0.0049            0.0049        -22.820            0.0079            0.0079        -22.820    1355                         224.639      1118.64  2.0495e-08   2.3869e-10     2.1621e-10         3.2972e-12 LogParabola            1.3735e-11          1.4466e-13   1.8507       0.0071      1.4365e-11          1.6555e-13   1.7668       0.0116   0.0410      0.0041      5.024        1.3951e-11            1.5212e-13     1.7437         0.0127        0.00047            0.00005         0.6667                 --        5.391   15833.77 8.811208e-08 .. 6.9656847e-10 -3.0399406e-08 .. 4.141124e-11 1.4376523e-11 .. 3.529928e-11 2.5337915 .. 54.02705          656.0535           0.2555               0.0610      98.236 1.7111846e-07  4.005396e-09 255223712.0    31332582.0 1.7111846e-07 .. 1.1275729e-07 -4.005396e-09 .. 3.5797774e-09 98.23613 .. 69.82156 3FGL J2158.8-3013  3FHL J2158.8-3013   J2157-3015        3EG J2158-3023     EGR J2200-3015               P PKS 2155-304                bll          PKS 2155-304                                                    1.0000        0.9997       329.7169        -30.2256         0.00000     0"
      ]
     },
     "execution_count": 102,
     "metadata": {},
     "output_type": "execute_result"
    }
   ],
   "source": [
    "catalog.table[5400]"
   ]
  },
  {
   "cell_type": "code",
   "execution_count": 103,
   "metadata": {},
   "outputs": [
    {
     "data": {
      "text/plain": [
       "<SkyCoord (ICRS): (ra, dec) in deg\n",
       "    (329.71411133, -30.22509956)>"
      ]
     },
     "execution_count": 103,
     "metadata": {},
     "output_type": "execute_result"
    }
   ],
   "source": [
    "source.position"
   ]
  },
  {
   "cell_type": "code",
   "execution_count": 104,
   "metadata": {},
   "outputs": [],
   "source": [
    "sky_model = source.sky_model()"
   ]
  },
  {
   "cell_type": "code",
   "execution_count": 105,
   "metadata": {},
   "outputs": [
    {
     "name": "stdout",
     "output_type": "stream",
     "text": [
      "SkyModel\n",
      "\n",
      "  Name                      : 4FGL J2158.8-3013\n",
      "  Datasets names            : None\n",
      "  Spectral model type       : LogParabolaSpectralModel\n",
      "  Spatial  model type       : PointSpatialModel\n",
      "  Temporal model type       : \n",
      "  Parameters:\n",
      "    amplitude               :   1.44e-11   +/- 1.7e-13 1 / (cm2 MeV s)\n",
      "    reference    (frozen)   :   1118.643       MeV         \n",
      "    alpha                   :      1.767   +/-    0.01             \n",
      "    beta                    :      0.041   +/-    0.00             \n",
      "    lon_0                   :    329.714   +/-    0.00 deg         \n",
      "    lat_0                   :    -30.225   +/-    0.00 deg         \n",
      "\n",
      "\n"
     ]
    }
   ],
   "source": [
    "print(sky_model)"
   ]
  },
  {
   "cell_type": "code",
   "execution_count": 106,
   "metadata": {},
   "outputs": [
    {
     "data": {
      "text/plain": [
       "<AxesSubplot:xlabel='Energy [MeV]', ylabel='e2dnde (erg / (cm2 s))'>"
      ]
     },
     "execution_count": 106,
     "metadata": {},
     "output_type": "execute_result"
    },
    {
     "data": {
      "image/png": "[encoded data removed]",
      "text/plain": [
       "<Figure size 432x288 with 1 Axes>"
      ]
     },
     "metadata": {
      "needs_background": "light"
     },
     "output_type": "display_data"
    }
   ],
   "source": [
    "source.flux_points.plot(sed_type=\"e2dnde\")"
   ]
  },
  {
   "cell_type": "markdown",
   "metadata": {},
   "source": [
    "## Now, simulate for CTA using the above model"
   ]
  },
  {
   "cell_type": "markdown",
   "metadata": {},
   "source": [
    "### Create a fake observation defining observation conditions"
   ]
  },
  {
   "cell_type": "code",
   "execution_count": 107,
   "metadata": {},
   "outputs": [
    {
     "name": "stderr",
     "output_type": "stream",
     "text": [
      "Invalid unit found in background table! Assuming (s-1 MeV-1 sr-1)\n"
     ]
    }
   ],
   "source": [
    "# Loading IRFs\n",
    "irfs = load_cta_irfs(\n",
    "    \"$GAMMAPY_DATA/cta-1dc/caldb/data/cta/1dc/bcf/South_z20_50h/irf_file.fits\"\n",
    ")"
   ]
  },
  {
   "cell_type": "code",
   "execution_count": 108,
   "metadata": {},
   "outputs": [],
   "source": [
    "# Define the observation parameters (typically the observation duration and the pointing position):\n",
    "livetime = 2.0 * u.hr\n",
    "pointing = source.position"
   ]
  },
  {
   "cell_type": "code",
   "execution_count": 124,
   "metadata": {},
   "outputs": [],
   "source": [
    "# Define map geometry for binned simulation\n",
    "energy_reco = MapAxis.from_edges(\n",
    "    np.logspace(-1.0, 1.0, 10), unit=\"TeV\", name=\"energy\", interp=\"log\"\n",
    ")\n",
    "geom = WcsGeom.create(\n",
    "    skydir=source.position,\n",
    "    binsz=0.02,\n",
    "    width=(3, 3),\n",
    "    frame=\"icrs\",\n",
    "    axes=[energy_reco],\n",
    ")\n",
    "# It is usually useful to have a separate binning for the true energy axis\n",
    "energy_true = MapAxis.from_edges(\n",
    "    np.logspace(-1.5, 1.5, 30), unit=\"TeV\", name=\"energy_true\", interp=\"log\"\n",
    ")\n",
    "\n",
    "empty = MapDataset.create(\n",
    "    geom, name=\"dataset-simu\", energy_axis_true=energy_true\n",
    ")"
   ]
  },
  {
   "cell_type": "markdown",
   "metadata": {},
   "source": [
    "### Define model to simulate the data\n",
    "\n",
    "- intrinsic model from the 4FGL\n",
    "- EBL model (see: https://docs.gammapy.org/0.19/modeling/gallery/spectral/plot_absorbed.html?highlight=ebl)"
   ]
  },
  {
   "cell_type": "code",
   "execution_count": 125,
   "metadata": {},
   "outputs": [
    {
     "name": "stdout",
     "output_type": "stream",
     "text": [
      "LogParabolaSpectralModel\n",
      "\n",
      "  type      name     value         unit        error   min max frozen link\n",
      "-------- --------- ---------- -------------- --------- --- --- ------ ----\n",
      "spectral amplitude 1.4365e-11 cm-2 MeV-1 s-1 1.655e-13 nan nan  False     \n",
      "spectral reference 1.1186e+03            MeV 0.000e+00 nan nan   True     \n",
      "spectral     alpha 1.7668e+00                1.163e-02 nan nan  False     \n",
      "spectral      beta 4.0969e-02                4.120e-03 nan nan  False     \n"
     ]
    }
   ],
   "source": [
    "int_model = sky_model.spectral_model\n",
    "print(int_model)"
   ]
  },
  {
   "cell_type": "code",
   "execution_count": 126,
   "metadata": {},
   "outputs": [],
   "source": [
    "redshift = 0.116\n",
    "ebl = EBLAbsorptionNormSpectralModel.read_builtin(\"dominguez\", redshift=redshift)"
   ]
  },
  {
   "cell_type": "code",
   "execution_count": 127,
   "metadata": {},
   "outputs": [],
   "source": [
    "spectral_model = ebl * int_model\n",
    "spatial_model = sky_model.spatial_model\n",
    "model_simu = SkyModel(spectral_model=spectral_model, \n",
    "                      spatial_model=spatial_model,\n",
    "                      name=\"model-simu\")"
   ]
  },
  {
   "cell_type": "code",
   "execution_count": 128,
   "metadata": {},
   "outputs": [],
   "source": [
    "bkg_model = FoVBackgroundModel(dataset_name=\"dataset-simu\")"
   ]
  },
  {
   "cell_type": "code",
   "execution_count": 129,
   "metadata": {},
   "outputs": [
    {
     "name": "stdout",
     "output_type": "stream",
     "text": [
      "Models\n",
      "\n",
      "Component 0: SkyModel\n",
      "\n",
      "  Name                      : model-simu\n",
      "  Datasets names            : None\n",
      "  Spectral model type       : CompoundSpectralModel\n",
      "  Spatial  model type       : PointSpatialModel\n",
      "  Temporal model type       : \n",
      "  Parameters:\n",
      "    alpha_norm   (frozen)   :      1.000                   \n",
      "    redshift     (frozen)   :      0.116                   \n",
      "    amplitude               :   1.44e-11   +/- 1.7e-13 1 / (cm2 MeV s)\n",
      "    reference    (frozen)   :   1118.643       MeV         \n",
      "    alpha                   :      1.767   +/-    0.01             \n",
      "    beta                    :      0.041   +/-    0.00             \n",
      "    lon_0                   :    329.714   +/-    0.00 deg         \n",
      "    lat_0                   :    -30.225   +/-    0.00 deg         \n",
      "\n",
      "Component 1: FoVBackgroundModel\n",
      "\n",
      "  Name                      : dataset-simu-bkg\n",
      "  Datasets names            : ['dataset-simu']\n",
      "  Spectral model type       : PowerLawNormSpectralModel\n",
      "  Parameters:\n",
      "    norm                    :      1.000   +/-    0.00             \n",
      "    tilt         (frozen)   :      0.000                   \n",
      "    reference    (frozen)   :      1.000       TeV         \n",
      "\n",
      "\n"
     ]
    }
   ],
   "source": [
    "models = Models([model_simu, bkg_model])\n",
    "print(models)"
   ]
  },
  {
   "cell_type": "markdown",
   "metadata": {},
   "source": [
    "### Now, perform a simulation"
   ]
  },
  {
   "cell_type": "code",
   "execution_count": 130,
   "metadata": {},
   "outputs": [
    {
     "name": "stdout",
     "output_type": "stream",
     "text": [
      "Observation\n",
      "\n",
      "\tobs id            : 0 \n",
      " \ttstart            : 51544.00\n",
      "\ttstop             : 51544.08\n",
      "\tduration          : 7200.00 s\n",
      "\tpointing (icrs)   : 329.7 deg, -30.2 deg\n",
      "\n",
      "\tdeadtime fraction : 0.0%\n",
      "\n"
     ]
    }
   ],
   "source": [
    "# Create an in-memory observation\n",
    "obs = Observation.create(pointing=pointing, livetime=livetime, irfs=irfs)\n",
    "print(obs)"
   ]
  },
  {
   "cell_type": "code",
   "execution_count": 131,
   "metadata": {},
   "outputs": [
    {
     "name": "stdout",
     "output_type": "stream",
     "text": [
      "MapDataset\n",
      "----------\n",
      "\n",
      "  Name                            : dataset-simu \n",
      "\n",
      "  Total counts                    : 0 \n",
      "  Total background counts         : 52917.67\n",
      "  Total excess counts             : -52917.67\n",
      "\n",
      "  Predicted counts                : 52917.67\n",
      "  Predicted background counts     : 52917.67\n",
      "  Predicted excess counts         : nan\n",
      "\n",
      "  Exposure min                    : 4.64e+07 m2 s\n",
      "  Exposure max                    : 3.58e+10 m2 s\n",
      "\n",
      "  Number of total bins            : 202500 \n",
      "  Number of fit bins              : 202500 \n",
      "\n",
      "  Fit statistic type              : cash\n",
      "  Fit statistic value (-2 log(L)) : nan\n",
      "\n",
      "  Number of models                : 0 \n",
      "  Number of parameters            : 0\n",
      "  Number of free parameters       : 0\n",
      "\n",
      "\n"
     ]
    }
   ],
   "source": [
    "# Make the MapDataset\n",
    "maker = MapDatasetMaker(selection=[\"exposure\", \"background\", \"psf\", \"edisp\"])\n",
    "\n",
    "maker_safe_mask = SafeMaskMaker(methods=[\"offset-max\"], offset_max=4.0 * u.deg)\n",
    "\n",
    "dataset = maker.run(empty, obs)\n",
    "dataset = maker_safe_mask.run(dataset, obs)\n",
    "print(dataset)"
   ]
  },
  {
   "cell_type": "code",
   "execution_count": 132,
   "metadata": {},
   "outputs": [
    {
     "name": "stdout",
     "output_type": "stream",
     "text": [
      "MapDataset\n",
      "----------\n",
      "\n",
      "  Name                            : dataset-simu \n",
      "\n",
      "  Total counts                    : 55515 \n",
      "  Total background counts         : 52917.67\n",
      "  Total excess counts             : 2597.33\n",
      "\n",
      "  Predicted counts                : 55665.85\n",
      "  Predicted background counts     : 52917.67\n",
      "  Predicted excess counts         : 2748.17\n",
      "\n",
      "  Exposure min                    : 4.64e+07 m2 s\n",
      "  Exposure max                    : 3.58e+10 m2 s\n",
      "\n",
      "  Number of total bins            : 202500 \n",
      "  Number of fit bins              : 202500 \n",
      "\n",
      "  Fit statistic type              : cash\n",
      "  Fit statistic value (-2 log(L)) : 152592.82\n",
      "\n",
      "  Number of models                : 2 \n",
      "  Number of parameters            : 11\n",
      "  Number of free parameters       : 6\n",
      "\n",
      "  Component 0: SkyModel\n",
      "  \n",
      "    Name                      : model-simu\n",
      "    Datasets names            : None\n",
      "    Spectral model type       : CompoundSpectralModel\n",
      "    Spatial  model type       : PointSpatialModel\n",
      "    Temporal model type       : \n",
      "    Parameters:\n",
      "      alpha_norm   (frozen)   :      1.000                   \n",
      "      redshift     (frozen)   :      0.116                   \n",
      "      amplitude               :   1.44e-11   +/- 1.7e-13 1 / (cm2 MeV s)\n",
      "      reference    (frozen)   :   1118.643       MeV         \n",
      "      alpha                   :      1.767   +/-    0.01             \n",
      "      beta                    :      0.041   +/-    0.00             \n",
      "      lon_0                   :    329.714   +/-    0.00 deg         \n",
      "      lat_0                   :    -30.225   +/-    0.00 deg         \n",
      "  \n",
      "  Component 1: FoVBackgroundModel\n",
      "  \n",
      "    Name                      : dataset-simu-bkg\n",
      "    Datasets names            : ['dataset-simu']\n",
      "    Spectral model type       : PowerLawNormSpectralModel\n",
      "    Parameters:\n",
      "      norm                    :      1.000   +/-    0.00             \n",
      "      tilt         (frozen)   :      0.000                   \n",
      "      reference    (frozen)   :      1.000       TeV         \n",
      "  \n",
      "  \n"
     ]
    }
   ],
   "source": [
    "#Add the model on the dataset and Poission fluctuate\n",
    "dataset.models = models\n",
    "dataset.fake()\n",
    "# Do a print on the dataset - there is now a counts maps\n",
    "print(dataset)"
   ]
  },
  {
   "cell_type": "code",
   "execution_count": 133,
   "metadata": {},
   "outputs": [
    {
     "data": {
      "application/vnd.jupyter.widget-view+json": {
       "model_id": "0a30bdd8019043bfad7073681e74c4a9",
       "version_major": 2,
       "version_minor": 0
      },
      "text/plain": [
       "interactive(children=(SelectionSlider(continuous_update=False, description='Select energy:', layout=Layout(wid…"
      ]
     },
     "metadata": {},
     "output_type": "display_data"
    }
   ],
   "source": [
    "dataset.excess.smooth(0.05 * u.deg).plot_interactive(\n",
    "    add_cbar=True, stretch=\"linear\"\n",
    ")"
   ]
  },
  {
   "cell_type": "code",
   "execution_count": 134,
   "metadata": {},
   "outputs": [
    {
     "data": {
      "text/plain": [
       "WcsNDMap\n",
       "\n",
       "\tgeom  : WcsGeom \n",
       " \taxes  : ['lon', 'lat', 'energy']\n",
       "\tshape : (150, 150, 9)\n",
       "\tndim  : 3\n",
       "\tunit  : \n",
       "\tdtype : int64"
      ]
     },
     "execution_count": 134,
     "metadata": {},
     "output_type": "execute_result"
    }
   ],
   "source": [
    "dataset.counts"
   ]
  },
  {
   "cell_type": "code",
   "execution_count": 135,
   "metadata": {},
   "outputs": [
    {
     "data": {
      "text/plain": [
       "<WCSAxesSubplot:xlabel='Right Ascension', ylabel='Declination'>"
      ]
     },
     "execution_count": 135,
     "metadata": {},
     "output_type": "execute_result"
    },
    {
     "data": {
      "image/png": "[encoded data removed]",
      "text/plain": [
       "<Figure size 432x288 with 2 Axes>"
      ]
     },
     "metadata": {
      "needs_background": "light"
     },
     "output_type": "display_data"
    }
   ],
   "source": [
    "dataset.counts.sum_over_axes().plot(add_cbar=True)"
   ]
  },
  {
   "cell_type": "code",
   "execution_count": 136,
   "metadata": {},
   "outputs": [
    {
     "data": {
      "text/plain": [
       "WcsNDMap\n",
       "\n",
       "\tgeom  : WcsGeom \n",
       " \taxes  : ['lon', 'lat']\n",
       "\tshape : (150, 150)\n",
       "\tndim  : 2\n",
       "\tunit  : \n",
       "\tdtype : int64"
      ]
     },
     "execution_count": 136,
     "metadata": {},
     "output_type": "execute_result"
    }
   ],
   "source": [
    "dataset.counts.get_image_by_coord({\"energy\": \"5 TeV\"})"
   ]
  },
  {
   "cell_type": "code",
   "execution_count": 137,
   "metadata": {},
   "outputs": [],
   "source": [
    "dataset.write(\"pks2155-simulated.fits.gz\", overwrite=True)"
   ]
  },
  {
   "cell_type": "code",
   "execution_count": null,
   "metadata": {},
   "outputs": [],
   "source": []
  },
  {
   "cell_type": "code",
   "execution_count": null,
   "metadata": {},
   "outputs": [],
   "source": []
  },
  {
   "cell_type": "code",
   "execution_count": null,
   "metadata": {},
   "outputs": [],
   "source": []
  },
  {
   "cell_type": "code",
   "execution_count": null,
   "metadata": {},
   "outputs": [],
   "source": []
  }
 ],
 "metadata": {
  "kernelspec": {
   "display_name": "Python 3 (ipykernel)",
   "language": "python",
   "name": "python3"
  },
  "language_info": {
   "codemirror_mode": {
    "name": "ipython",
    "version": 3
   },
   "file_extension": ".py",
   "mimetype": "text/x-python",
   "name": "python",
   "nbconvert_exporter": "python",
   "pygments_lexer": "ipython3",
   "version": "3.7.0"
  }
 },
 "nbformat": 4,
 "nbformat_minor": 4
}
